{
 "cells": [
  {
   "cell_type": "code",
   "execution_count": 1,
   "id": "1471b6e1",
   "metadata": {},
   "outputs": [],
   "source": [
    "import numpy as np\n",
    "from matplotlib import pyplot as plt\n",
    "from matplotlib.font_manager import FontProperties\n",
    "from math import log\n",
    "import operator\n",
    "import pickle"
   ]
  },
  {
   "cell_type": "markdown",
   "id": "9fd262ff",
   "metadata": {},
   "source": [
    "## 生成数据集"
   ]
  },
  {
   "cell_type": "code",
   "execution_count": 2,
   "id": "bc2a7c0f",
   "metadata": {},
   "outputs": [],
   "source": [
    "def createDataSet():\n",
    "    dataSet = [[0, 0, 0, 0, \"no\"],\n",
    "               [0, 0, 0, 1, \"no\"],\n",
    "               [0, 1, 0, 1, \"yes\"],\n",
    "               [0, 1, 1, 0, \"yes\"],\n",
    "               [0, 0, 0, 0, \"no\"],\n",
    "               [1, 0, 0, 0, \"no\"],\n",
    "               [1, 0, 0, 1, \"no\"],\n",
    "               [1, 1, 1, 1, \"yes\"],\n",
    "               [1, 0, 1, 2, \"yes\"],\n",
    "               [1, 0, 1, 2, \"yes\"],\n",
    "               [2, 0, 1, 2, \"yes\"],\n",
    "               [2, 0, 1, 1, \"yes\"],\n",
    "               [2, 1, 0, 1, \"yes\"],\n",
    "               [2, 1, 0, 2, \"yes\"],\n",
    "               [2, 0, 0, 0, \"no\"]]\n",
    "    labels = [\"F1\", \"F2\", \"F3\", \"F4\"]\n",
    "    return dataSet, labels"
   ]
  },
  {
   "cell_type": "markdown",
   "id": "6ff6e760",
   "metadata": {},
   "source": [
    "## 得到该classList最多的类型yes/no"
   ]
  },
  {
   "cell_type": "code",
   "execution_count": 3,
   "id": "bf6ce5ce",
   "metadata": {},
   "outputs": [],
   "source": [
    "def majorityCnt(classList):\n",
    "    '''\n",
    "    return: 最多的类型（yes/no）\n",
    "    '''\n",
    "    classCount = {}\n",
    "    for vote in classCount:\n",
    "        if vote not in classCount.Keys():\n",
    "            classCount[vote] = 0\n",
    "        classCount[vote] += 1\n",
    "    sortedClassCount = sorted(classCount.items(), key=operator.itemgetter(1), reverse=True)\n",
    "    #print(sortedClassCount)\n",
    "    return sortedClassCount[0][0]"
   ]
  },
  {
   "cell_type": "markdown",
   "id": "fd6fe504",
   "metadata": {},
   "source": [
    "## 得到当前数据中最好的特征索引"
   ]
  },
  {
   "cell_type": "code",
   "execution_count": 4,
   "id": "656b73de",
   "metadata": {},
   "outputs": [],
   "source": [
    "def chooseBestFeatureToSplit(dataset):\n",
    "    '''\n",
    "    return: 当前数据中最好的特征索引\n",
    "    dataset: 一般为被切过的数据\n",
    "    '''\n",
    "    #一般为裁剪后的列数总和\n",
    "    numFeatures = len(dataset[0]) - 1\n",
    "    \n",
    "    #基础熵值\n",
    "    baseEntropy = calcShannonEnt(dataset)\n",
    "    #最好的信息增益\n",
    "    bestInfoGain = 0\n",
    "    #最好的特征\n",
    "    bestFeature = -1\n",
    "    for i in range(numFeatures):\n",
    "        #得到当前列特征值\n",
    "        featList = [example[i] for example in dataset]\n",
    "        uniqueVals = set(featList)\n",
    "        #分别计算以该列特征分类后的熵值\n",
    "        newEntropy = 0\n",
    "        for val in uniqueVals:\n",
    "            #分别计算以该列特征分类后的每组结点的熵值\n",
    "            subDataSet = splitDataSet(dataset, i, val)\n",
    "            #计算加权熵值\n",
    "            prob = len(subDataSet) / float(len(dataset))\n",
    "            newEntropy += prob * calcShannonEnt(subDataSet)\n",
    "        infoGain = baseEntropy - newEntropy\n",
    "        if infoGain > bestInfoGain:\n",
    "            bestInfoGain = infoGain\n",
    "            bestFeature = i\n",
    "    \n",
    "    return bestFeature"
   ]
  },
  {
   "cell_type": "markdown",
   "id": "b1db4c3c",
   "metadata": {},
   "source": [
    "## 计算香农熵"
   ]
  },
  {
   "cell_type": "code",
   "execution_count": 5,
   "id": "c723e237",
   "metadata": {},
   "outputs": [],
   "source": [
    "def calcShannonEnt(dataset):\n",
    "    '''\n",
    "    func: 计算香农熵\n",
    "    dataset: 一般为处理后的部分数据\n",
    "    '''\n",
    "    numSamples = len(dataset)\n",
    "    labelCounts = {}\n",
    "    for feaVec in dataset:\n",
    "        currentlabel = feaVec[-1]\n",
    "        if currentlabel not in labelCounts.keys():\n",
    "            labelCounts[currentlabel] = 0\n",
    "        labelCounts[currentlabel] += 1\n",
    "    shannonEnt = 0\n",
    "    for key in labelCounts:\n",
    "        #prop key类别的概率值\n",
    "        prob = float(labelCounts[key]) / numSamples\n",
    "        shannonEnt -= prob * log(prob, 2)\n",
    "    return shannonEnt"
   ]
  },
  {
   "cell_type": "markdown",
   "id": "3c68be3a",
   "metadata": {},
   "source": [
    "## 切分数据集"
   ]
  },
  {
   "cell_type": "code",
   "execution_count": 6,
   "id": "b78570b8",
   "metadata": {},
   "outputs": [],
   "source": [
    "def splitDataSet(dataset, axis, val):\n",
    "    '''\n",
    "    func: 按该特征(axis)分类后该结点(val)的数据切分数据集，\n",
    "    并去掉当前特征列，返回dataset长宽都缩减后的结果\n",
    "    axis: 当前特征索引\n",
    "    val: 当前特征的当前结点所代表的值，如weather特征中的“cloud”\n",
    "    '''\n",
    "    retDataSet = []\n",
    "    for featVec in dataset:\n",
    "        if featVec[axis] == val:\n",
    "            reducedFeatVec = featVec[:axis]\n",
    "            reducedFeatVec.extend(featVec[axis+1:])\n",
    "            retDataSet.append(reducedFeatVec)\n",
    "    return retDataSet"
   ]
  },
  {
   "cell_type": "markdown",
   "id": "7440f326",
   "metadata": {},
   "source": [
    "## 主要函数---生成决策树"
   ]
  },
  {
   "cell_type": "code",
   "execution_count": 7,
   "id": "d666b518",
   "metadata": {},
   "outputs": [],
   "source": [
    "def createTree(dataset, labels, featlabels):\n",
    "    classList = [example[-1] for example in dataset]\n",
    "    if classList.count(classList[0]) == len(classList):\n",
    "        return classList[0]\n",
    "    if len(dataset[0]) == 1:\n",
    "        return majorityCnt(classList)\n",
    "    #得到当前最好特征的索引\n",
    "    bestFeat = chooseBestFeatureToSplit(dataset)\n",
    "    bestFeatLabel = labels[bestFeat]\n",
    "    #按顺序拿到label\n",
    "    featLabels.append(bestFeatLabel)\n",
    "    \n",
    "    myTree = {bestFeatLabel: {}}\n",
    "    del labels[bestFeat]\n",
    "    \n",
    "    #拿到当前特征有几种值，即能分为几个分支\n",
    "    featValue = [example[bestFeat]for example in dataset]\n",
    "    uniqueVals = set(featValue)\n",
    "    for value in uniqueVals:\n",
    "        #当前label已经被切割\n",
    "        sublabels = labels[:]\n",
    "        myTree[bestFeatLabel][value] = createTree(splitDataSet(dataset, bestFeat, value),\n",
    "                                                 sublabels, featLabels)\n",
    "    return myTree"
   ]
  },
  {
   "cell_type": "markdown",
   "id": "2653e6de",
   "metadata": {},
   "source": [
    "## 可视化"
   ]
  },
  {
   "cell_type": "code",
   "execution_count": null,
   "id": "e60d489a",
   "metadata": {},
   "outputs": [],
   "source": []
  },
  {
   "cell_type": "markdown",
   "id": "4f1faf59",
   "metadata": {},
   "source": [
    "## 测试代码"
   ]
  },
  {
   "cell_type": "code",
   "execution_count": 8,
   "id": "4b8a502e",
   "metadata": {},
   "outputs": [],
   "source": [
    "dataset, labels = createDataSet()\n",
    "featLabels = []\n",
    "myTree = createTree(dataset, labels, featLabels)"
   ]
  }
 ],
 "metadata": {
  "kernelspec": {
   "display_name": "Python 3 (ipykernel)",
   "language": "python",
   "name": "python3"
  },
  "language_info": {
   "codemirror_mode": {
    "name": "ipython",
    "version": 3
   },
   "file_extension": ".py",
   "mimetype": "text/x-python",
   "name": "python",
   "nbconvert_exporter": "python",
   "pygments_lexer": "ipython3",
   "version": "3.9.12"
  }
 },
 "nbformat": 4,
 "nbformat_minor": 5
}
